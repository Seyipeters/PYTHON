{
 "cells": [
  {
   "cell_type": "code",
   "execution_count": 2,
   "metadata": {},
   "outputs": [
    {
     "name": "stdout",
     "output_type": "stream",
     "text": [
      "The required production quantities for each month are:\n",
      "Month 1: 0\n",
      "Month 2: 0\n",
      "Month 3: 0\n",
      "Month 4: 200\n",
      "Month 5: 0\n"
     ]
    }
   ],
   "source": [
    "# ask the user for input\n",
    "initial_stock_level = int(input(\"Please enter an initial stock level: \"))\n",
    "num_months = int(input(\"Please enter the number of months to plan: \"))\n",
    "\n",
    "# initialize variables\n",
    "previous_stock_level = initial_stock_level\n",
    "production_quantities = []\n",
    "\n",
    "# loop over each month and calculate the required production quantity\n",
    "for month in range(num_months):\n",
    "    sales_quantity = int(input(f\"Please enter the planned sales quantity for month {month+1}: \"))\n",
    "    if sales_quantity < previous_stock_level:\n",
    "        production_quantity = 0\n",
    "    else:\n",
    "        production_quantity = sales_quantity - previous_stock_level\n",
    "    production_quantities.append(production_quantity)\n",
    "    previous_stock_level = sales_quantity\n",
    "\n",
    "# print the required production quantities for each month\n",
    "print(\"The required production quantities for each month are:\")\n",
    "for month, quantity in enumerate(production_quantities):\n",
    "    print(f\"Month {month+1}: {quantity}\")\n"
   ]
  },
  {
   "cell_type": "code",
   "execution_count": null,
   "metadata": {},
   "outputs": [],
   "source": []
  }
 ],
 "metadata": {
  "kernelspec": {
   "display_name": "Python 3",
   "language": "python",
   "name": "python3"
  },
  "language_info": {
   "codemirror_mode": {
    "name": "ipython",
    "version": 3
   },
   "file_extension": ".py",
   "mimetype": "text/x-python",
   "name": "python",
   "nbconvert_exporter": "python",
   "pygments_lexer": "ipython3",
   "version": "3.11.3"
  },
  "orig_nbformat": 4
 },
 "nbformat": 4,
 "nbformat_minor": 2
}
